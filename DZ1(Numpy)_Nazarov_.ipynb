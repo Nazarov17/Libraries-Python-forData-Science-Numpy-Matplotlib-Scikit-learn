{
 "cells": [
  {
   "cell_type": "code",
   "execution_count": 1,
   "id": "08901b24-5afe-40a2-bdc9-5e51eb412f24",
   "metadata": {},
   "outputs": [],
   "source": [
    "import numpy as np"
   ]
  },
  {
   "cell_type": "code",
   "execution_count": 2,
   "id": "856dd6c5-eac2-4662-89d7-dc3b099d691a",
   "metadata": {},
   "outputs": [],
   "source": [
    "a = np.array([[1, 6],\n",
    "              [2, 8],\n",
    "              [3, 11],\n",
    "              [3, 10],\n",
    "              [1, 7]])"
   ]
  },
  {
   "cell_type": "code",
   "execution_count": 11,
   "id": "517032b9-de26-402c-bb05-63c1eb39d426",
   "metadata": {},
   "outputs": [
    {
     "data": {
      "text/plain": [
       "array([[ 1,  6],\n",
       "       [ 2,  8],\n",
       "       [ 3, 11],\n",
       "       [ 3, 10],\n",
       "       [ 1,  7]])"
      ]
     },
     "execution_count": 11,
     "metadata": {},
     "output_type": "execute_result"
    }
   ],
   "source": [
    "a"
   ]
  },
  {
   "cell_type": "code",
   "execution_count": 12,
   "id": "298838f5-3d31-4eb6-84c5-f6456030c165",
   "metadata": {},
   "outputs": [],
   "source": [
    "mean_a = (a.mean(axis=0))"
   ]
  },
  {
   "cell_type": "code",
   "execution_count": 13,
   "id": "420b040b-c520-4186-84a5-4ad63a2aacaf",
   "metadata": {},
   "outputs": [
    {
     "data": {
      "text/plain": [
       "array([2. , 8.4])"
      ]
     },
     "execution_count": 13,
     "metadata": {},
     "output_type": "execute_result"
    }
   ],
   "source": [
    "mean_a"
   ]
  },
  {
   "cell_type": "code",
   "execution_count": 15,
   "id": "d040bf47-55c7-4e92-a91b-0806359bde41",
   "metadata": {},
   "outputs": [],
   "source": [
    "a_centered = np.subtract(a, mean_a)"
   ]
  },
  {
   "cell_type": "code",
   "execution_count": 16,
   "id": "d5e02d2b-9f39-4b0a-866d-e7f027478c9e",
   "metadata": {},
   "outputs": [
    {
     "data": {
      "text/plain": [
       "array([[-1. , -2.4],\n",
       "       [ 0. , -0.4],\n",
       "       [ 1. ,  2.6],\n",
       "       [ 1. ,  1.6],\n",
       "       [-1. , -1.4]])"
      ]
     },
     "execution_count": 16,
     "metadata": {},
     "output_type": "execute_result"
    }
   ],
   "source": [
    "a_centered"
   ]
  },
  {
   "cell_type": "code",
   "execution_count": 25,
   "id": "7d9ba9fc-3d9e-4a2f-8285-4738925fefd9",
   "metadata": {},
   "outputs": [],
   "source": [
    "a_centered_1 = a_centered[0:5,0]"
   ]
  },
  {
   "cell_type": "code",
   "execution_count": 26,
   "id": "3ceef834-8571-4dc4-bb22-16d0edb72429",
   "metadata": {},
   "outputs": [
    {
     "data": {
      "text/plain": [
       "array([-1.,  0.,  1.,  1., -1.])"
      ]
     },
     "execution_count": 26,
     "metadata": {},
     "output_type": "execute_result"
    }
   ],
   "source": [
    "a_centered_1"
   ]
  },
  {
   "cell_type": "code",
   "execution_count": 27,
   "id": "7884076c-1ac8-4d6d-bf13-d5053fe24380",
   "metadata": {},
   "outputs": [],
   "source": [
    "a_centered_2 = a_centered[0:5, 1]"
   ]
  },
  {
   "cell_type": "code",
   "execution_count": 28,
   "id": "7c36e972-29d0-490b-b9bb-094dbd686d83",
   "metadata": {},
   "outputs": [
    {
     "data": {
      "text/plain": [
       "array([-2.4, -0.4,  2.6,  1.6, -1.4])"
      ]
     },
     "execution_count": 28,
     "metadata": {},
     "output_type": "execute_result"
    }
   ],
   "source": [
    "a_centered_2 "
   ]
  },
  {
   "cell_type": "code",
   "execution_count": 29,
   "id": "a12d17fb-0507-4859-944e-1c81ddea4f5e",
   "metadata": {},
   "outputs": [],
   "source": [
    "a_centered_sp = np.dot(a_centered_1, a_centered_2)"
   ]
  },
  {
   "cell_type": "code",
   "execution_count": 30,
   "id": "bcc0bf4a-8ca0-46bc-b35d-5c551474bb55",
   "metadata": {},
   "outputs": [
    {
     "data": {
      "text/plain": [
       "8.0"
      ]
     },
     "execution_count": 30,
     "metadata": {},
     "output_type": "execute_result"
    }
   ],
   "source": [
    "a_centered_sp"
   ]
  },
  {
   "cell_type": "code",
   "execution_count": 31,
   "id": "f789054f-5690-4b91-a55a-533065ca650d",
   "metadata": {},
   "outputs": [],
   "source": [
    "a_centered_sp2 = a_centered_1.dot(a_centered_2)"
   ]
  },
  {
   "cell_type": "code",
   "execution_count": 32,
   "id": "44a6cfff-c83e-4862-a5c3-b6f48a9cc368",
   "metadata": {},
   "outputs": [
    {
     "data": {
      "text/plain": [
       "8.0"
      ]
     },
     "execution_count": 32,
     "metadata": {},
     "output_type": "execute_result"
    }
   ],
   "source": [
    "a_centered_sp2"
   ]
  },
  {
   "cell_type": "code",
   "execution_count": null,
   "id": "e8297774-267f-4fd0-882a-f8000dab0339",
   "metadata": {},
   "outputs": [],
   "source": []
  }
 ],
 "metadata": {
  "kernelspec": {
   "display_name": "Python 3",
   "language": "python",
   "name": "python3"
  },
  "language_info": {
   "codemirror_mode": {
    "name": "ipython",
    "version": 3
   },
   "file_extension": ".py",
   "mimetype": "text/x-python",
   "name": "python",
   "nbconvert_exporter": "python",
   "pygments_lexer": "ipython3",
   "version": "3.9.1"
  }
 },
 "nbformat": 4,
 "nbformat_minor": 5
}
